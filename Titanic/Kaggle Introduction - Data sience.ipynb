{
 "cells": [
  {
   "cell_type": "markdown",
   "metadata": {
    "collapsed": true
   },
   "source": [
    "### Kaggle\n",
    "\n",
    "https://www.kaggle.com/host\n",
    "1. 공짜로 data를 이용 할 수 있다.\n",
    "2. 기업으로 부터 Challenge 과제가 많다.\n",
    "3. online IDE를 제공한다.\n",
    "4. Github 처럼 다른 사람의 방법을 가져와 써 볼수도 있다.\n",
    "5. 순위 확인이 가능하다.\n",
    "    https://www.kaggle.com/c/titanic/leaderboard"
   ]
  },
  {
   "cell_type": "markdown",
   "metadata": {},
   "source": [
    "**접근 방법**\n",
    "1. 문제 파악\n",
    "2. data download\n",
    "3. 필요한 data 와 불필요한 data 구분\n",
    "4. data를 prediction model에 맞게 변형\n",
    "5. model을 학습 \n",
    "6. Testing\n",
    "7. 개선 시키고\n",
    "8. 최종적으로 Kaggle 제출"
   ]
  },
  {
   "cell_type": "code",
   "execution_count": null,
   "metadata": {
    "collapsed": true
   },
   "outputs": [],
   "source": []
  }
 ],
 "metadata": {
  "anaconda-cloud": {},
  "kernelspec": {
   "display_name": "Python [Root]",
   "language": "python",
   "name": "Python [Root]"
  },
  "language_info": {
   "codemirror_mode": {
    "name": "ipython",
    "version": 2
   },
   "file_extension": ".py",
   "mimetype": "text/x-python",
   "name": "python",
   "nbconvert_exporter": "python",
   "pygments_lexer": "ipython2",
   "version": "2.7.12"
  }
 },
 "nbformat": 4,
 "nbformat_minor": 0
}
