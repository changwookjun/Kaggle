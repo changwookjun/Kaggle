{
 "cells": [
  {
   "cell_type": "markdown",
   "metadata": {},
   "source": [
    "Kaggle Quora Question Pairs MaLSTM Source\n",
    "======"
   ]
  },
  {
   "cell_type": "markdown",
   "metadata": {},
   "source": [
    "Firs, lets import all the necessary packages"
   ]
  },
  {
   "cell_type": "code",
   "execution_count": 1,
   "metadata": {},
   "outputs": [
    {
     "name": "stderr",
     "output_type": "stream",
     "text": [
      "Using TensorFlow backend.\n"
     ]
    }
   ],
   "source": [
    "# Import Learning Packages\n",
    "from gensim.models import KeyedVectors\n",
    "from nltk.corpus import stopwords\n",
    "from sklearn.model_selection import train_test_split\n",
    "#from tensorflow.python.keras.preprocessing.sequence import pad_sequences #\n",
    "#from tensorflow.python.keras.models import Model #\n",
    "#from tensorflow.python.keras.layers import Input, Embedding, LSTM #\n",
    "from keras.preprocessing.sequence import pad_sequences #\n",
    "from keras.models import Model #\n",
    "from keras.layers import Input, Embedding, LSTM #\n",
    "from keras.layers import Merge\n",
    "import keras.backend as K\n",
    "#from tensorflow.python.keras.optimizers import Adadelta #\n",
    "#from tensorflow.python.keras.callbacks import ModelCheckpoint #\n",
    "from keras.optimizers import Adadelta #\n",
    "from keras.callbacks import ModelCheckpoint #\n",
    "\n",
    "# Import Other Packages\n",
    "import re\n",
    "from time import time\n",
    "import pandas as pd\n",
    "import numpy as np\n",
    "import itertools\n",
    "import datetime\n",
    "\n",
    "# Import Visualization Packages\n",
    "import matplotlib.pyplot as plt\n",
    "import seaborn as sns"
   ]
  },
  {
   "cell_type": "markdown",
   "metadata": {},
   "source": [
    "Global Variables"
   ]
  },
  {
   "cell_type": "code",
   "execution_count": 2,
   "metadata": {},
   "outputs": [],
   "source": [
    "#File Paths\n",
    "DATA_PATH = '/home/evo_mind/.kaggle/competitions/quora-question-pairs/'\n",
    "TRAIN_CSV = 'train.csv'\n",
    "TEST_CSV = 'test.csv'\n",
    "EMBEDDING_FILE = 'GoogleNews-vectors-negative300.bin.gz'\n",
    "MODEL_SAVING_DIR = './models/'"
   ]
  },
  {
   "cell_type": "markdown",
   "metadata": {},
   "source": [
    "Create Embedding Matrix"
   ]
  },
  {
   "cell_type": "code",
   "execution_count": 3,
   "metadata": {},
   "outputs": [
    {
     "name": "stderr",
     "output_type": "stream",
     "text": [
      "/home/evo_mind/anaconda3/lib/python3.6/site-packages/IPython/core/interactiveshell.py:2785: DtypeWarning: Columns (0) have mixed types. Specify dtype option on import or set low_memory=False.\n",
      "  interactivity=interactivity, compiler=compiler, result=result)\n",
      "/home/evo_mind/anaconda3/lib/python3.6/site-packages/ipykernel_launcher.py:73: FutureWarning: set_value is deprecated and will be removed in a future release. Please use .at[] or .iat[] accessors instead\n"
     ]
    }
   ],
   "source": [
    "# Load Training and Test Set\n",
    "train_df = pd.read_csv(DATA_PATH + TRAIN_CSV)\n",
    "test_df = pd.read_csv(DATA_PATH + TEST_CSV)\n",
    "\n",
    "stops = set(stopwords.words('english'))\n",
    "\n",
    "def text_to_word_list(text):\n",
    "    ''' Pre Process and convert texts to a list of words '''\n",
    "    text = str(text)\n",
    "    text = text.lower()\n",
    "    \n",
    "    # Clean the text\n",
    "    text = re.sub(r\"[^A-Za-z0-9^,!.\\/'+-=]\", \" \", text)\n",
    "    text = re.sub(r\"what's\", \"what is \", text)\n",
    "    text = re.sub(r\"\\'s\", \" \", text)\n",
    "    text = re.sub(r\"\\'ve\", \"have \", text)\n",
    "    text = re.sub(r\"can't\", \"cannot \", text)\n",
    "    text = re.sub(r\"n't\", \" not \", text)\n",
    "    text = re.sub(r\"i'm\", \"i am \", text)\n",
    "    text = re.sub(r\"\\'re\",\" are \", text)\n",
    "    text = re.sub(r\"\\'d\", \" would \", text)\n",
    "    text = re.sub(r\"\\'ll\", \" will \", text)\n",
    "    text = re.sub(r\",\", \" \", text) \n",
    "    text = re.sub(r\"\\.\", \" \", text)\n",
    "    text = re.sub(r\"!\", \" ! \", text)\n",
    "    text = re.sub(r\"\\/\", \" \", text)\n",
    "    text = re.sub(r\"\\^\", \" ^ \", text)\n",
    "    text = re.sub(r\"\\+\", \" + \", text)\n",
    "    text = re.sub(r\"\\-\", \" - \", text)    \n",
    "    text = re.sub(r\"\\=\", \" = \", text)\n",
    "    text = re.sub(r\"'\", \" \", text)\n",
    "    text = re.sub(r\"(\\d+)(k)\", r\"\\g<1>000\", text)\n",
    "    text = re.sub(r\":\", \" : \", text)\n",
    "    text = re.sub(r\" e g \", \" eg \", text)\n",
    "    text = re.sub(r\" b g \", \" bg \", text)\n",
    "    text = re.sub(r\" u s \", \" american \", text)\n",
    "    text = re.sub(r\"\\0s\", \"0\", text)    \n",
    "    text = re.sub(r\" 9 11 \", \"911\", text)\n",
    "    text = re.sub(r\"e - mail\", \"email\", text)\n",
    "    text = re.sub(r\"j k\", \"jk\", text)\n",
    "    text = re.sub(r\"\\s{2,}\", \" \", text) \n",
    "    \n",
    "    text = text.split()\n",
    "    \n",
    "    return text\n",
    "\n",
    "# Prepare Embedding\n",
    "vocabulary = dict()\n",
    "inverse_vocabulary = ['<unk>'] # '<unk>' will never be used, it is only a placeholder for the [0, 0, ....0] embedding\n",
    "word2vec = KeyedVectors.load_word2vec_format(DATA_PATH+EMBEDDING_FILE, binary=True)\n",
    "\n",
    "questions_cols = ['question1', 'question2']\n",
    "\n",
    "# Iterate over the questions only of both training and test datasets\n",
    "for dataset in [train_df, test_df]:\n",
    "    for index, row in dataset.iterrows():\n",
    "        # Iterate through the text of both questions of the row\n",
    "        for question in questions_cols:\n",
    "            q2n = [] # q2n -> question numbers representation\n",
    "            for word in text_to_word_list(row[question]):\n",
    "                # Check for unwanted words\n",
    "                if word in stops and word not in word2vec.vocab: # 특정 word에 대해서 건너 뛴다.\n",
    "                    continue\n",
    "                    \n",
    "                if word not in vocabulary: # unkwon word  처리 하고 있음\n",
    "                    vocabulary[word] = len(inverse_vocabulary)\n",
    "                    q2n.append(len(inverse_vocabulary))\n",
    "                    inverse_vocabulary.append(word)\n",
    "                else:\n",
    "                    q2n.append(vocabulary[word])\n",
    "            \n",
    "            # Replace questions as word to question as number representation\n",
    "            dataset.set_value(index, question, q2n)\n",
    "\n",
    "embedding_dim = 300\n",
    "embeddings = 1 * np.random.randn(len(vocabulary) + 1, embedding_dim) # This will be the embedding matrix\n",
    "embeddings[0] = 0 #  So that the padding will be ignored\n",
    "\n",
    "# Build the embedding matrix\n",
    "for word, index in vocabulary.items():\n",
    "    if word in word2vec.vocab:\n",
    "        embeddings[index] = word2vec.word_vec(word)\n",
    "\n",
    "del word2vec"
   ]
  },
  {
   "cell_type": "markdown",
   "metadata": {},
   "source": [
    "Prepare training and validation data"
   ]
  },
  {
   "cell_type": "code",
   "execution_count": 4,
   "metadata": {},
   "outputs": [],
   "source": [
    "# max seqence length 값 찾기\n",
    "max_seq_length = max(train_df.question1.map(lambda x: len(x)).max(),\n",
    "                     train_df.question2.map(lambda x: len(x)).max(),\n",
    "                     test_df.question1.map(lambda x: len(x)).max(),\n",
    "                     test_df.question2.map(lambda x: len(x)).max())\n",
    "\n",
    "# Split to train validation\n",
    "validation_size = 40000\n",
    "training_size = len(train_df) - validation_size\n",
    "\n",
    "X = train_df[questions_cols]\n",
    "Y = train_df['is_duplicate']\n",
    "\n",
    "X_train, X_validation, Y_train, Y_validation = train_test_split(X, Y, test_size=validation_size)\n",
    "\n",
    "# Split to dicts\n",
    "X_train = {'left': X_train.question1, 'right': X_train.question2}\n",
    "X_validation = {'left': X_validation.question1, 'right': X_validation.question2}\n",
    "X_test = {'left': test_df.question1, 'right': test_df.question2}\n",
    "\n",
    "# Convert labels to their numpy representations\n",
    "Y_train = Y_train.values\n",
    "Y_validation = Y_validation.values\n",
    "\n",
    "# Zero padding\n",
    "for dataset, side in itertools.product([X_train, X_validation], ['left', 'right']):\n",
    "    dataset[side] = pad_sequences(dataset[side], maxlen=max_seq_length)\n",
    "    \n",
    "# Make sure everything is OK\n",
    "assert X_train['left'].shape == X_train['right'].shape\n",
    "assert len(X_train['left']) == len(Y_train)"
   ]
  },
  {
   "cell_type": "code",
   "execution_count": 5,
   "metadata": {},
   "outputs": [],
   "source": [
    "# Model Variables\n",
    "n_hidden = 50\n",
    "gradient_clipping_norm = 1.25\n",
    "batch_size = 64\n",
    "n_epoch = 25"
   ]
  },
  {
   "cell_type": "code",
   "execution_count": 6,
   "metadata": {},
   "outputs": [],
   "source": [
    "def exponent_neg_manhattan_distance(left, right):\n",
    "    ''' Helper function for the similarity estimate of the LSTMs outputs'''\n",
    "    return K.exp(-K.sum(K.abs(left-right), axis=1, keepdims=True))"
   ]
  },
  {
   "cell_type": "code",
   "execution_count": 7,
   "metadata": {},
   "outputs": [
    {
     "name": "stderr",
     "output_type": "stream",
     "text": [
      "/home/evo_mind/anaconda3/lib/python3.6/site-packages/ipykernel_launcher.py:20: UserWarning: The `Merge` layer is deprecated and will be removed after 08/2017. Use instead layers from `keras.layers.merge`, e.g. `add`, `concatenate`, etc.\n",
      "/home/evo_mind/anaconda3/lib/python3.6/site-packages/ipykernel_launcher.py:35: UserWarning: The `nb_epoch` argument in `fit` has been renamed `epochs`.\n"
     ]
    },
    {
     "name": "stdout",
     "output_type": "stream",
     "text": [
      "Train on 364290 samples, validate on 40000 samples\n",
      "Epoch 1/25\n",
      "364290/364290 [==============================] - 1520s 4ms/step - loss: 0.1746 - acc: 0.7471 - val_loss: 0.1648 - val_acc: 0.7585\n",
      "Epoch 2/25\n",
      "364290/364290 [==============================] - 1519s 4ms/step - loss: 0.1547 - acc: 0.7823 - val_loss: 0.1543 - val_acc: 0.7876\n",
      "Epoch 3/25\n",
      "364290/364290 [==============================] - 1535s 4ms/step - loss: 0.1471 - acc: 0.7953 - val_loss: 0.1484 - val_acc: 0.7856\n",
      "Epoch 4/25\n",
      "364290/364290 [==============================] - 1535s 4ms/step - loss: 0.1425 - acc: 0.8025 - val_loss: 0.1427 - val_acc: 0.7994\n",
      "Epoch 5/25\n",
      "364290/364290 [==============================] - 1535s 4ms/step - loss: 0.1391 - acc: 0.8079 - val_loss: 0.1411 - val_acc: 0.8053\n",
      "Epoch 6/25\n",
      "364290/364290 [==============================] - 1535s 4ms/step - loss: 0.1365 - acc: 0.8116 - val_loss: 0.1403 - val_acc: 0.8017\n",
      "Epoch 7/25\n",
      "364290/364290 [==============================] - 1534s 4ms/step - loss: 0.1344 - acc: 0.8146 - val_loss: 0.1378 - val_acc: 0.8043\n",
      "Epoch 8/25\n",
      "364290/364290 [==============================] - 1535s 4ms/step - loss: 0.1326 - acc: 0.8171 - val_loss: 0.1359 - val_acc: 0.8103\n",
      "Epoch 9/25\n",
      "364290/364290 [==============================] - 1534s 4ms/step - loss: 0.1309 - acc: 0.8195 - val_loss: 0.1354 - val_acc: 0.8068\n",
      "Epoch 10/25\n",
      "364290/364290 [==============================] - 1534s 4ms/step - loss: 0.1295 - acc: 0.8216 - val_loss: 0.1354 - val_acc: 0.8088\n",
      "Epoch 11/25\n",
      "364290/364290 [==============================] - 1535s 4ms/step - loss: 0.1284 - acc: 0.8237 - val_loss: 0.1333 - val_acc: 0.8147\n",
      "Epoch 12/25\n",
      "364290/364290 [==============================] - 1533s 4ms/step - loss: 0.1273 - acc: 0.8254 - val_loss: 0.1327 - val_acc: 0.8147\n",
      "Epoch 13/25\n",
      "364290/364290 [==============================] - 1533s 4ms/step - loss: 0.1264 - acc: 0.8268 - val_loss: 0.1322 - val_acc: 0.8148\n",
      "Epoch 14/25\n",
      "364290/364290 [==============================] - 1533s 4ms/step - loss: 0.1255 - acc: 0.8284 - val_loss: 0.1317 - val_acc: 0.8156\n",
      "Epoch 15/25\n",
      "364290/364290 [==============================] - 1534s 4ms/step - loss: 0.1247 - acc: 0.8301 - val_loss: 0.1314 - val_acc: 0.8179\n",
      "Epoch 16/25\n",
      "364290/364290 [==============================] - 1534s 4ms/step - loss: 0.1240 - acc: 0.8312 - val_loss: 0.1328 - val_acc: 0.8121\n",
      "Epoch 17/25\n",
      "364290/364290 [==============================] - 1534s 4ms/step - loss: 0.1233 - acc: 0.8321 - val_loss: 0.1306 - val_acc: 0.8177\n",
      "Epoch 18/25\n",
      "364290/364290 [==============================] - 1535s 4ms/step - loss: 0.1227 - acc: 0.8333 - val_loss: 0.1302 - val_acc: 0.8193\n",
      "Epoch 19/25\n",
      "364290/364290 [==============================] - 1444s 4ms/step - loss: 0.1220 - acc: 0.8345 - val_loss: 0.1307 - val_acc: 0.8194\n",
      "Epoch 20/25\n",
      "364290/364290 [==============================] - 1411s 4ms/step - loss: 0.1215 - acc: 0.8352 - val_loss: 0.1292 - val_acc: 0.8209\n",
      "Epoch 21/25\n",
      "364290/364290 [==============================] - 1412s 4ms/step - loss: 0.1210 - acc: 0.8362 - val_loss: 0.1290 - val_acc: 0.8199\n",
      "Epoch 22/25\n",
      "364290/364290 [==============================] - 1411s 4ms/step - loss: 0.1205 - acc: 0.8370 - val_loss: 0.1286 - val_acc: 0.8218\n",
      "Epoch 23/25\n",
      "364290/364290 [==============================] - 1412s 4ms/step - loss: 0.1200 - acc: 0.8377 - val_loss: 0.1289 - val_acc: 0.8205\n",
      "Epoch 24/25\n",
      "364290/364290 [==============================] - 1412s 4ms/step - loss: 0.1195 - acc: 0.8388 - val_loss: 0.1281 - val_acc: 0.8215\n",
      "Epoch 25/25\n",
      "364290/364290 [==============================] - 1411s 4ms/step - loss: 0.1191 - acc: 0.8394 - val_loss: 0.1279 - val_acc: 0.8226\n",
      "Training time finished. \n",
      " 25 epochs in 10:25:00.058925\n"
     ]
    }
   ],
   "source": [
    "# The visible layer\n",
    "left_input = Input(shape=(max_seq_length,), dtype='int32')\n",
    "right_input = Input(shape=(max_seq_length,), dtype='int32')\n",
    "\n",
    "embedding_layer = Embedding(len(embeddings), embedding_dim, weights=[embeddings], \n",
    "                           input_length=max_seq_length, trainable=False)\n",
    "\n",
    "# Embedded version of the inputs\n",
    "encoded_left = embedding_layer(left_input)\n",
    "encoded_right = embedding_layer(right_input)\n",
    "\n",
    "# Since this is a siames network, both sides share the same LSTM\n",
    "shared_lstm = LSTM(n_hidden)\n",
    "\n",
    "left_output = shared_lstm(encoded_left)\n",
    "right_output = shared_lstm(encoded_right)\n",
    "\n",
    "# Calculates the distance as defined by the MaLSTM model\n",
    "malstm_distance = Merge(mode=lambda x: exponent_neg_manhattan_distance(x[0], x[1]), \n",
    "                        output_shape=lambda x: (x[0][0], 1))([left_output, right_output])\n",
    "\n",
    "# Pack it all up into a model\n",
    "malstm = Model([left_input, right_input], [malstm_distance])\n",
    "\n",
    "# Adadelta optimizer, with gradient clipping by norm\n",
    "optimizer = Adadelta(clipnorm=gradient_clipping_norm)\n",
    "\n",
    "malstm.compile(loss='mean_squared_error', optimizer=optimizer, metrics=['accuracy'])\n",
    "\n",
    "# Start training\n",
    "training_start_time = time()\n",
    "\n",
    "malstm_trained = malstm.fit([X_train['left'], X_train['right']], Y_train, batch_size=batch_size,\n",
    "                           nb_epoch=n_epoch, validation_data=([X_validation['left'], X_validation['right']], \n",
    "                                                             Y_validation))\n",
    "\n",
    "print(\"Training time finished. \\n {} epochs in {}\".format(n_epoch, datetime.timedelta(seconds=time() - training_start_time)))"
   ]
  },
  {
   "cell_type": "markdown",
   "metadata": {},
   "source": [
    "Plotting the Results"
   ]
  },
  {
   "cell_type": "code",
   "execution_count": 8,
   "metadata": {},
   "outputs": [
    {
     "data": {
      "image/png": "[encoded data removed]",
      "text/plain": [
       "<Figure size 432x288 with 1 Axes>"
      ]
     },
     "metadata": {},
     "output_type": "display_data"
    },
    {
     "data": {
      "image/png": "[encoded data removed]",
      "text/plain": [
       "<Figure size 432x288 with 1 Axes>"
      ]
     },
     "metadata": {},
     "output_type": "display_data"
    }
   ],
   "source": [
    "# Plot accuracy\n",
    "plt.plot(malstm_trained.history['acc'])\n",
    "plt.plot(malstm_trained.history['val_acc'])\n",
    "plt.title('Model Accuracy')\n",
    "plt.ylabel('Accuracy')\n",
    "plt.xlabel('Epoch')\n",
    "plt.legend(['Train', 'Validation'], loc='upper left')\n",
    "plt.show()\n",
    "\n",
    "# Plot loss\n",
    "plt.plot(malstm_trained.history['loss'])\n",
    "plt.plot(malstm_trained.history['val_loss'])\n",
    "plt.title('Model Loss')\n",
    "plt.ylabel('Loss')\n",
    "plt.xlabel('Epoch')\n",
    "plt.legend(['Train', 'Validation'], loc='upper right')\n",
    "plt.show()"
   ]
  },
  {
   "cell_type": "code",
   "execution_count": null,
   "metadata": {},
   "outputs": [],
   "source": []
  }
 ],
 "metadata": {
  "kernelspec": {
   "display_name": "Python 3",
   "language": "python",
   "name": "python3"
  },
  "language_info": {
   "codemirror_mode": {
    "name": "ipython",
    "version": 3
   },
   "file_extension": ".py",
   "mimetype": "text/x-python",
   "name": "python",
   "nbconvert_exporter": "python",
   "pygments_lexer": "ipython3",
   "version": "3.6.4"
  }
 },
 "nbformat": 4,
 "nbformat_minor": 2
}
