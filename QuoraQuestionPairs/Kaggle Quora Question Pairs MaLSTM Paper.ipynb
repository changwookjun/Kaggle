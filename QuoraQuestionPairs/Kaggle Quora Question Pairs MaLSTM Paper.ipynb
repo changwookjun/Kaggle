{
 "cells": [
  {
   "cell_type": "markdown",
   "metadata": {},
   "source": [
    "# Kaggle Quora Question Pairs MaLSTM Paper"
   ]
  },
  {
   "cell_type": "markdown",
   "metadata": {},
   "source": [
    "샴 (Siames) 네트워크를 사용해서 Kaggle의 Quora Paires 대회에 도전해 보자.    \n",
    "Manhattn LSTM (MaLSTM)  사용하도록 하겠습니다.   \n",
    "사용 하는 이유는 상위권에 많이 언급 되는 Paper 이기 때문입니다.   \n",
    "\n",
    "샴 네트워크는 양측의 가중치를 공유하기 때문에 훈련이 쉽습니다."
   ]
  },
  {
   "cell_type": "markdown",
   "metadata": {},
   "source": [
    "### Paper URL : http://www.mit.edu/~jonasm/info/MuellerThyagarajan_AAAI16.pdf"
   ]
  },
  {
   "cell_type": "markdown",
   "metadata": {},
   "source": [
    "### Paper 의 내용 정리"
   ]
  },
  {
   "cell_type": "markdown",
   "metadata": {},
   "source": [
    "MaLSTM은 맨하턴 거리(Manhattan distance)를 사용하는 LSTM을 말합니다.  \n",
    "두가지를 사용하여 단순하지만 실용적인 모델을 구축 하고 있습니다. \n",
    "\n",
    "각각의 LSTM 50개를 사용하여 두 문장의 거리를 통해 문장의 유사도를 비교 할 수 있다.   "
   ]
  },
  {
   "cell_type": "markdown",
   "metadata": {},
   "source": [
    "# LSTM\n",
    "### LSTM에 대한 부분을 더 알고 싶다면 아래 Link\n",
    "[LSTM URL](./Understanding LSTM Networks.ipynb )  "
   ]
  },
  {
   "cell_type": "markdown",
   "metadata": {},
   "source": [
    "![Alt text](./images/01.png)"
   ]
  },
  {
   "cell_type": "markdown",
   "metadata": {},
   "source": [
    "# Manhattan Distance"
   ]
  },
  {
   "cell_type": "markdown",
   "metadata": {},
   "source": [
    "![Alt text](./images/02.png)"
   ]
  },
  {
   "cell_type": "markdown",
   "metadata": {},
   "source": [
    "# Network 설명"
   ]
  },
  {
   "cell_type": "markdown",
   "metadata": {},
   "source": [
    "그래서 무엇보다 \"샴 네트워크\"란 무엇입니까?   \n",
    "샴 네트워크는 두 개 이상의 동일한 하위 네트워크가있는 네트워크입니다.   \n",
    "샴 네트워크는 유사성 작업에서 잘 수행되는 것으로 보이며 문장 의미론적 유사성, 위조 된 서명 인식 등의 작업에 사용되었습니다.  \n",
    "네트워크에 대한 입력은 제로 패딩 된 워드 인덱스 시퀀스입니다.  \n",
    "이 입력은 고정 길이의 벡터로 사용합니다.   \n",
    "그런 다음 벡터가 삽입 레이어로 공급됩니다.   \n",
    "이 레이어는 각 단어에 해당하는 포함을 찾아 매트릭스에 모두 캡슐화합니다.  \n",
    "이 행렬은 주어진 텍스트를 일련의 삽입으로 하고 Embedding으로는 Google의 word2vec을 사용한다.   "
   ]
  },
  {
   "cell_type": "markdown",
   "metadata": {},
   "source": [
    "### Word Vector에 History를 알고 싶다면 아래 Link\n",
    "[Word Vector URL](./The Amazing Power Of Word Vectors.ipynb )  \n",
    "word2vec Code URL : https://code.google.com/archive/p/word2vec/  "
   ]
  },
  {
   "cell_type": "markdown",
   "metadata": {},
   "source": [
    "![Alt text](./images/07.png)"
   ]
  },
  {
   "cell_type": "markdown",
   "metadata": {},
   "source": [
    "우리는 음수의 지수를 가지므로 출력 (우리의 경우 예측)은 0과 1 사이가 될 것입니다.  "
   ]
  },
  {
   "cell_type": "markdown",
   "metadata": {},
   "source": [
    "### 훈련"
   ]
  },
  {
   "cell_type": "markdown",
   "metadata": {},
   "source": [
    "옵티 마이저는 Adadelta 옵티 마이저이다.  \n",
    "또한 그라디언트 클리핑을 사용하여 폭발적인 그라디언트 문제를 피할 수 있습니다.  \n",
    "Udacity 심층 학습 과정 에서이 비디오 의 그라디언트 클리핑에 대한 좋은 설명을 찾을 수 있습니다 .  \n",
    "Udacity URL : https://www.youtube.com/watch?v=VuamhbEWEWA  "
   ]
  },
  {
   "cell_type": "markdown",
   "metadata": {},
   "source": [
    "### Semantic relatedness scoring"
   ]
  },
  {
   "cell_type": "markdown",
   "metadata": {},
   "source": [
    "similarity function은 단순한 구성으로, e^-x 곡선을 따르도록 되어 있다.  \n",
    "즉, 거리가 0에 가까울 수록 결과는 1이 되고, 거리가 커질수록 결과는 0에 무한히 가까워 진다.  \n",
    "레이블 또한 의미론적으로 유사한 문장은 1이 부여되어 있고, 다른 문장은 0이 부여되어 별도의 activation function 없이  \n",
    "이 값을 일치시키는 형태로 레이어가 구성된다.  \n",
    "cost function은 이 차이에 대한 MSE를 사용한다.  \n",
    "\n",
    "기존에 주로 사용하던 유클리드 거리는 크게 두 가지 문제가 있다고 한다.  \n",
    "\n",
    "1. 유사도를 판단하는 문제에 L2를 사용하면 objective function이 원치 않는 고원 형태undesirable plateaus가 될 수 있다.  \n",
    "   (Chopra, Hadsell, and LeCun, 2005) 즉, 학습이 늦고 minima를 찾기 힘들어 진다.  \n",
    "   \n",
    "2. 학습 초기 단계에 L2는 유클리드 거리의 vanishing gradients로 인한 에러를 보정하기 어렵다.  \n",
    "   의미론적으로 잘못 판단된 문장을 보정하기 어렵다고 한다.  \n",
    "   \n",
    "논문에서는 다양한 실험을 했고, 맨하탄 거리를 사용하는 것이 코사인 유사도 등을 사용하는 것 보다 결과가 더 좋았다고 한다.  \n",
    "아래는 SICK 데이터셋에 포함된 연결 강도와 MaLSTM(맨 우측)의 비교다.  "
   ]
  },
  {
   "cell_type": "markdown",
   "metadata": {},
   "source": [
    "![Alt text](./images/03.png)"
   ]
  },
  {
   "cell_type": "markdown",
   "metadata": {},
   "source": [
    "MaLSTM은 실제 연결 강도와 매우 유사함을 확인할 수 있다.  \n",
    "Richard Socher쪽에서 나온 논문인 Tree-LSTM과도 비교하는데, 당연히 이번에도 MaLSTM의 결과가 더 좋았다고 한다.  "
   ]
  },
  {
   "cell_type": "markdown",
   "metadata": {},
   "source": [
    "![Alt text](./images/04.png)"
   ]
  },
  {
   "cell_type": "code",
   "execution_count": null,
   "metadata": {},
   "outputs": [],
   "source": []
  }
 ],
 "metadata": {
  "kernelspec": {
   "display_name": "Python 3",
   "language": "python",
   "name": "python3"
  },
  "language_info": {
   "codemirror_mode": {
    "name": "ipython",
    "version": 3
   },
   "file_extension": ".py",
   "mimetype": "text/x-python",
   "name": "python",
   "nbconvert_exporter": "python",
   "pygments_lexer": "ipython3",
   "version": "3.6.4"
  }
 },
 "nbformat": 4,
 "nbformat_minor": 2
}
