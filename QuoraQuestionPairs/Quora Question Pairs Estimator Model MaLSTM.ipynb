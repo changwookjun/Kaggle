{
 "cells": [
  {
   "cell_type": "markdown",
   "metadata": {},
   "source": [
    "# Quora Question Pairs Estimator Model MaLSTM"
   ]
  },
  {
   "cell_type": "markdown",
   "metadata": {},
   "source": [
    "# 관련 Package 불러오기"
   ]
  },
  {
   "cell_type": "code",
   "execution_count": 1,
   "metadata": {},
   "outputs": [],
   "source": [
    "# tensorflow import\n",
    "import tensorflow as tf\n",
    "\n",
    "# others import\n",
    "import json\n",
    "from sklearn.model_selection import train_test_split\n",
    "import numpy as np"
   ]
  },
  {
   "cell_type": "code",
   "execution_count": 2,
   "metadata": {},
   "outputs": [],
   "source": [
    "Q1_TRAINING_DATA_FILE = 'q1_train.npy'\n",
    "Q2_TRAINING_DATA_FILE = 'q2_train.npy'\n",
    "LABEL_TRAINING_DATA_FILE = 'label_train.npy'\n",
    "NB_WORDS_DATA_FILE = 'nb_words.json'\n",
    "DATA_PATH = '/home/evo_mind/.kaggle/competitions/quora-question-pairs/'\n",
    "\n",
    "BATCH_SIZE = 1024\n",
    "EPOCH = 50\n",
    "HIDDEN = 50\n",
    "BUFFER_SIZE = 2048\n",
    "\n",
    "TEST_SPLIT = 0.1\n",
    "RNG_SEED = 13371447\n",
    "\n",
    "WORD_EMBEDDING_DIM = 100\n",
    "# CONV_FEATURE_DIM = 300\n",
    "# CONV_OUTPUT_DIM = 128\n",
    "# CONV_WINDOW_SIZE = 3\n",
    "\n",
    "# SIMILARITY_DENSE_FEATURE_DIM = 200\n"
   ]
  },
  {
   "cell_type": "code",
   "execution_count": 3,
   "metadata": {},
   "outputs": [],
   "source": [
    "q1Data = np.load(open(DATA_PATH + Q1_TRAINING_DATA_FILE, 'rb'))\n",
    "q2Data = np.load(open(DATA_PATH + Q2_TRAINING_DATA_FILE, 'rb'))\n",
    "labels = np.load(open(DATA_PATH + LABEL_TRAINING_DATA_FILE, 'rb'))"
   ]
  },
  {
   "cell_type": "code",
   "execution_count": 4,
   "metadata": {},
   "outputs": [],
   "source": [
    "prepro_configs = None\n",
    "\n",
    "with open(DATA_PATH + NB_WORDS_DATA_FILE, 'r') as file:\n",
    "    prepro_configs = json.load(file)"
   ]
  },
  {
   "cell_type": "code",
   "execution_count": 5,
   "metadata": {},
   "outputs": [],
   "source": [
    "X = np.stack((q1Data, q2Data), axis=1)\n",
    "Y = labels\n",
    "\n",
    "X_train, X_test, Y_train, Y_test = train_test_split(X, Y, test_size=TEST_SPLIT, random_state=RNG_SEED)\n",
    "\n",
    "Q1Train = X_train[:,0]\n",
    "Q2Train = X_train[:,1]\n",
    "Q1Test = X_test[:,0]\n",
    "Q2Test = X_test[:,1]"
   ]
  },
  {
   "cell_type": "code",
   "execution_count": 6,
   "metadata": {},
   "outputs": [],
   "source": [
    "def contrastive_loss(y,d):\n",
    "    tmp= y *tf.square(d)\n",
    "    #tmp= tf.mul(y,tf.square(d))\n",
    "    tmp2 = (1-y) *tf.square(tf.maximum((1 - d),0))\n",
    "    return tf.reduce_sum(tmp +tmp2)/batch_size/2"
   ]
  },
  {
   "cell_type": "code",
   "execution_count": 7,
   "metadata": {},
   "outputs": [],
   "source": [
    "def rearrange(base, hypothesis, label):\n",
    "    features = {\"base\": base, \"hypothesis\": hypothesis}\n",
    "    return features, label"
   ]
  },
  {
   "cell_type": "code",
   "execution_count": 8,
   "metadata": {},
   "outputs": [],
   "source": [
    "def train_input_fn():\n",
    "    dataset = tf.data.Dataset.from_tensor_slices((Q1Train, Q2Train, Y_train))\n",
    "    dataset = dataset.shuffle(buffer_size=BUFFER_SIZE)\n",
    "    dataset = dataset.batch(BATCH_SIZE)\n",
    "    dataset = dataset.map(rearrange)\n",
    "    dataset = dataset.repeat()\n",
    "    iterator = dataset.make_one_shot_iterator()\n",
    "    \n",
    "    return iterator.get_next()"
   ]
  },
  {
   "cell_type": "code",
   "execution_count": 9,
   "metadata": {},
   "outputs": [],
   "source": [
    "def test_input_fn():\n",
    "    dataset = tf.data.Dataset.from_tensor_slices((Q1Test, Q2Test, Y_test))\n",
    "    dataset = dataset.shuffle(buffer_size=BUFFER_SIZE)\n",
    "    dataset = dataset.batch(BATCH_SIZE)\n",
    "    dataset = dataset.map(rearrange)\n",
    "    dataset = dataset.repeat()\n",
    "    iterator = dataset.make_one_shot_iterator()\n",
    "    \n",
    "    return iterator.get_next()"
   ]
  },
  {
   "cell_type": "code",
   "execution_count": 10,
   "metadata": {},
   "outputs": [],
   "source": [
    "VOCAB_SIZE = prepro_configs['nbWords']"
   ]
  },
  {
   "cell_type": "code",
   "execution_count": 11,
   "metadata": {},
   "outputs": [],
   "source": [
    "def model_fn(features, labels, mode, params):\n",
    "    \n",
    "    wordEmbeddings = tf.get_variable('wordEmbeddings', [VOCAB_SIZE, WORD_EMBEDDING_DIM])\n",
    "    def lstm_network(inputs, reuse=tf.AUTO_REUSE):\n",
    "        rnn_cell = tf.nn.rnn_cell.BasicLSTMCell(HIDDEN, reuse=reuse)\n",
    "        outputs, states = tf.nn.dynamic_rnn(rnn_cell, inputs, dtype=tf.float32)\n",
    "        return outputs[:, -1, :]\n",
    "    \n",
    "    baseEmbeddedMatrix = tf.nn.embedding_lookup(wordEmbeddings, features['base'])\n",
    "    hypothesisEmbeddedMatrix = tf.nn.embedding_lookup(wordEmbeddings, features['hypothesis'])\n",
    "    distance  = tf.sqrt(tf.reduce_sum(tf.pow(tf.subtract(lstm_network(baseEmbeddedMatrix),lstm_network(hypothesisEmbeddedMatrix)),2),1,keep_dims=True))\n",
    "    distance = tf.squeeze(distance, -1)\n",
    "    \n",
    "    if mode == tf.estimator.ModeKeys.TRAIN:\n",
    "        globalStep = tf.train.get_global_step()\n",
    "        loss = tf.losses.mean_squared_error(labels, distance)\n",
    "        trainOp = tf.train.AdadeltaOptimizer(1e-4).minimize(loss, globalStep)\n",
    "        accuracy = tf.metrics.accuracy(labels, distance)\n",
    "        evalMetricOps = {'acc':accuracy}    \n",
    "        \n",
    "        return tf.estimator.EstimatorSpec(\n",
    "            mode=mode,\n",
    "            train_op=trainOp,\n",
    "            loss=loss,\n",
    "            eval_metric_ops=evalMetricOps\n",
    "        )\n",
    "    elif mode == tf.estimator.ModeKeys.PREDICT:\n",
    "        return tf.estimator.EstimatorSpec(\n",
    "            mode=mode,\n",
    "            predictions={\n",
    "                'prob':distance\n",
    "            }\n",
    "        )\n",
    "    else: \n",
    "        return 0;"
   ]
  },
  {
   "cell_type": "code",
   "execution_count": 12,
   "metadata": {},
   "outputs": [
    {
     "name": "stdout",
     "output_type": "stream",
     "text": [
      "INFO:tensorflow:Using default config.\n",
      "INFO:tensorflow:Using config: {'_model_dir': 'models_3', '_tf_random_seed': None, '_save_summary_steps': 100, '_save_checkpoints_steps': None, '_save_checkpoints_secs': 600, '_session_config': None, '_keep_checkpoint_max': 5, '_keep_checkpoint_every_n_hours': 10000, '_log_step_count_steps': 100, '_train_distribute': None, '_service': None, '_cluster_spec': <tensorflow.python.training.server_lib.ClusterSpec object at 0x7f12569ca908>, '_task_type': 'worker', '_task_id': 0, '_global_id_in_cluster': 0, '_master': '', '_evaluation_master': '', '_is_chief': True, '_num_ps_replicas': 0, '_num_worker_replicas': 1}\n",
      "WARNING:tensorflow:Estimator's model_fn (<function model_fn at 0x7f12569c38c8>) includes params argument, but params are not passed to Estimator.\n"
     ]
    }
   ],
   "source": [
    "estimator = tf.estimator.Estimator(model_fn, model_dir='models_3')"
   ]
  },
  {
   "cell_type": "code",
   "execution_count": null,
   "metadata": {},
   "outputs": [
    {
     "name": "stdout",
     "output_type": "stream",
     "text": [
      "INFO:tensorflow:Calling model_fn.\n",
      "WARNING:tensorflow:From <ipython-input-11-d874991203b8>:11: calling reduce_sum (from tensorflow.python.ops.math_ops) with keep_dims is deprecated and will be removed in a future version.\n",
      "Instructions for updating:\n",
      "keep_dims is deprecated, use keepdims instead\n",
      "INFO:tensorflow:Done calling model_fn.\n",
      "INFO:tensorflow:Create CheckpointSaverHook.\n",
      "INFO:tensorflow:Graph was finalized.\n",
      "INFO:tensorflow:Restoring parameters from models_3/model.ckpt-2\n",
      "INFO:tensorflow:Running local_init_op.\n",
      "INFO:tensorflow:Done running local_init_op.\n"
     ]
    }
   ],
   "source": [
    "estimator.train(train_input_fn)"
   ]
  }
 ],
 "metadata": {
  "kernelspec": {
   "display_name": "Python 3",
   "language": "python",
   "name": "python3"
  },
  "language_info": {
   "codemirror_mode": {
    "name": "ipython",
    "version": 3
   },
   "file_extension": ".py",
   "mimetype": "text/x-python",
   "name": "python",
   "nbconvert_exporter": "python",
   "pygments_lexer": "ipython3",
   "version": "3.6.4"
  }
 },
 "nbformat": 4,
 "nbformat_minor": 2
}
